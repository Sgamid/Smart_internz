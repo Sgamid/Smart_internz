{
  "nbformat": 4,
  "nbformat_minor": 0,
  "metadata": {
    "colab": {
      "provenance": []
    },
    "kernelspec": {
      "name": "python3",
      "display_name": "Python 3"
    },
    "language_info": {
      "name": "python"
    }
  },
  "cells": [
    {
      "cell_type": "code",
      "execution_count": 2,
      "metadata": {
        "id": "z-s-7bYl6HSC"
      },
      "outputs": [],
      "source": [
        "#Task-1\n",
        "import pandas as pd\n",
        "from sklearn.model_selection import train_test_split\n",
        "from sklearn.preprocessing import LabelEncoder, StandardScaler\n",
        "dataset = pd.read_csv('drug200.csv')\n",
        "dataset = dataset.dropna()\n",
        "X = dataset.drop(['Drug'], axis=1)\n",
        "y = dataset['Drug']\n",
        "label_encoder = LabelEncoder()\n",
        "X['Sex'] = label_encoder.fit_transform(X['Sex'])\n",
        "X['BP'] = label_encoder.fit_transform(X['BP'])\n",
        "X['Cholesterol'] = label_encoder.fit_transform(X['Cholesterol'])\n",
        "scaler = StandardScaler()\n",
        "X_scaled = scaler.fit_transform(X)\n",
        "X_train, X_test, y_train, y_test = train_test_split(X_scaled, y,\n",
        "test_size=0.2, random_state=42)\n"
      ]
    },
    {
      "cell_type": "code",
      "source": [
        "#Task-2\n",
        "from tensorflow.keras.models import Sequential\n",
        "from tensorflow.keras.layers import Dense\n",
        "model = Sequential()\n",
        "model.add(Dense(units=64, activation='relu',\n",
        "input_dim=X_train.shape[1]))\n",
        "model.add(Dense(units=64, activation='relu'))\n",
        "model.add(Dense(units=32, activation='relu'))\n",
        "model.add(Dense(units=16, activation='relu'))\n",
        "model.add(Dense(units=len(label_encoder.classes_),activation='softmax'))\n",
        "model.compile(optimizer='adam', loss='sparse_categorical_crossentropy',\n",
        "metrics=['accuracy'])"
      ],
      "metadata": {
        "id": "VbqauH4s6k7i"
      },
      "execution_count": 3,
      "outputs": []
    },
    {
      "cell_type": "code",
      "source": [
        "#Task-3\n",
        "import numpy as np\n",
        "random_data = np.array([[56, 7, 3, 9, 4.8]])\n",
        "random_data_scaled = scaler.transform(random_data)\n",
        "predictions = model.predict(random_data_scaled)\n",
        "predicted_class = label_encoder.inverse_transform([np.argmax(predictions)])\n",
        "print('Predicted Drug Class:', predicted_class)"
      ],
      "metadata": {
        "colab": {
          "base_uri": "https://localhost:8080/"
        },
        "id": "bHhdXovl_qd9",
        "outputId": "d405679b-d9b3-429c-d1bb-a0d868120ddc"
      },
      "execution_count": 4,
      "outputs": [
        {
          "output_type": "stream",
          "name": "stderr",
          "text": [
            "/usr/local/lib/python3.10/dist-packages/sklearn/base.py:439: UserWarning: X does not have valid feature names, but StandardScaler was fitted with feature names\n",
            "  warnings.warn(\n"
          ]
        },
        {
          "output_type": "stream",
          "name": "stdout",
          "text": [
            "1/1 [==============================] - 0s 196ms/step\n",
            "Predicted Drug Class: ['HIGH']\n"
          ]
        }
      ]
    }
  ]
}