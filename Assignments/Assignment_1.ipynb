{
  "nbformat": 4,
  "nbformat_minor": 0,
  "metadata": {
    "colab": {
      "provenance": []
    },
    "kernelspec": {
      "name": "python3",
      "display_name": "Python 3"
    },
    "language_info": {
      "name": "python"
    }
  },
  "cells": [
    {
      "cell_type": "code",
      "execution_count": 1,
      "metadata": {
        "colab": {
          "base_uri": "https://localhost:8080/"
        },
        "id": "HR7FwwOw9I1e",
        "outputId": "35861490-79c1-4158-9cc0-c2fd0d963269"
      },
      "outputs": [
        {
          "output_type": "stream",
          "name": "stdout",
          "text": [
            "   Feature 1  Feature 2  Feature 3  Feature 4\n",
            "0   0.920528   1.224339   3.191539   3.047619\n",
            "1  -0.164178   1.237743  -0.391721  -1.114458\n",
            "2  -0.370532  -0.302067  -0.741901  -0.079352\n",
            "3   0.450785  -0.308703  -0.984221  -1.055273\n"
          ]
        }
      ],
      "source": [
        "#Task-1\n",
        "import pandas as pd\n",
        "import numpy as np\n",
        "data = np.random.randn(4, 4)\n",
        "df = pd.DataFrame(data, columns=['Feature 1', 'Feature 2', 'Feature 3', 'Feature 4'])\n",
        "print(df)"
      ]
    },
    {
      "cell_type": "code",
      "source": [
        "#Task-2\n",
        "import pandas as pd\n",
        "import numpy as np\n",
        "data = np.random.randn(4, 4)\n",
        "df = pd.DataFrame(data, columns=['Feature 1', 'Feature 2', 'Feature 3', 'Feature 4'])\n",
        "df = df.rename(columns={'Feature 1': 'Random value 1','Feature 2': 'Random value 2', \n",
        "                        'Feature 3': 'Random value 3','Feature 4': 'Random value 4'})\n",
        "print(df)\n"
      ],
      "metadata": {
        "colab": {
          "base_uri": "https://localhost:8080/"
        },
        "id": "GfAFXNKO9whH",
        "outputId": "2725eb3b-6c70-4111-d487-993834a85fbe"
      },
      "execution_count": 2,
      "outputs": [
        {
          "output_type": "stream",
          "name": "stdout",
          "text": [
            "   Random value 1  Random value 2  Random value 3  Random value 4\n",
            "0       -0.277868        0.670532       -0.488670       -2.776864\n",
            "1        0.313333        0.469584       -0.523117       -0.863480\n",
            "2       -0.017216        2.169899       -1.228244        0.387333\n",
            "3       -0.296518        1.442629       -0.062396       -0.078544\n"
          ]
        }
      ]
    },
    {
      "cell_type": "code",
      "source": [
        "#Task-3\n",
        "statistics = df.describe()\n",
        "print(statistics)\n"
      ],
      "metadata": {
        "colab": {
          "base_uri": "https://localhost:8080/"
        },
        "id": "7lAnuo3g9xhQ",
        "outputId": "b53a6c43-b370-4276-9779-834684c5d75b"
      },
      "execution_count": 3,
      "outputs": [
        {
          "output_type": "stream",
          "name": "stdout",
          "text": [
            "       Random value 1  Random value 2  Random value 3  Random value 4\n",
            "count        4.000000        4.000000        4.000000        4.000000\n",
            "mean        -0.069567        1.188161       -0.575607       -0.832889\n",
            "std          0.285335        0.777358        0.482919        1.394985\n",
            "min         -0.296518        0.469584       -1.228244       -2.776864\n",
            "25%         -0.282530        0.620295       -0.699398       -1.341826\n",
            "50%         -0.147542        1.056580       -0.505893       -0.471012\n",
            "75%          0.065421        1.624446       -0.382102        0.037925\n",
            "max          0.313333        2.169899       -0.062396        0.387333\n"
          ]
        }
      ]
    },
    {
      "cell_type": "code",
      "source": [
        "#Task-4\n",
        "null_value = df.isnull().sum()\n",
        "print(\"Null Value:\\n\", null_value)\n",
        "data_type = df.dtypes\n",
        "print(\"\\nData Type:\\n\", data_type)"
      ],
      "metadata": {
        "colab": {
          "base_uri": "https://localhost:8080/"
        },
        "id": "x1i7BIwp90Y2",
        "outputId": "c46233e2-d826-4782-b6e4-af54d271f1ca"
      },
      "execution_count": 4,
      "outputs": [
        {
          "output_type": "stream",
          "name": "stdout",
          "text": [
            "Null Value:\n",
            " Random value 1    0\n",
            "Random value 2    0\n",
            "Random value 3    0\n",
            "Random value 4    0\n",
            "dtype: int64\n",
            "\n",
            "Data Type:\n",
            " Random value 1    float64\n",
            "Random value 2    float64\n",
            "Random value 3    float64\n",
            "Random value 4    float64\n",
            "dtype: object\n"
          ]
        }
      ]
    },
    {
      "cell_type": "code",
      "source": [
        "#Task-5\n",
        "import pandas as pd\n",
        "import numpy as np\n",
        "data = np.random.randn(4, 4)\n",
        "df = pd.DataFrame(data, columns=['Feature 1', 'Feature 2', 'Feature 3', 'Feature 4'])\n",
        "df = df.rename(columns={'Feature 2': 'Random value 2', 'Feature 3': 'Random value 3'})\n",
        "print(\"Random value 2 using location method:\\n\", df.loc[:, 'Random value 2'])\n",
        "print(\"\\nRandom value 3 using index location method:\\n\", df.iloc[:, 2])\n"
      ],
      "metadata": {
        "colab": {
          "base_uri": "https://localhost:8080/"
        },
        "id": "PPeYyaA_95KN",
        "outputId": "aa0f2b40-b377-4410-9081-d7633583fa8d"
      },
      "execution_count": 5,
      "outputs": [
        {
          "output_type": "stream",
          "name": "stdout",
          "text": [
            "Random value 2 using location method:\n",
            " 0    1.052796\n",
            "1    1.579376\n",
            "2   -0.361168\n",
            "3    1.258157\n",
            "Name: Random value 2, dtype: float64\n",
            "\n",
            "Random value 3 using index location method:\n",
            " 0    0.200983\n",
            "1   -1.063320\n",
            "2   -1.253369\n",
            "3    0.409238\n",
            "Name: Random value 3, dtype: float64\n"
          ]
        }
      ]
    }
  ]
}